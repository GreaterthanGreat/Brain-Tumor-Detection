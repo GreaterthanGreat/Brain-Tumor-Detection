{
  "nbformat": 4,
  "nbformat_minor": 0,
  "metadata": {
    "colab": {
      "provenance": []
    },
    "kernelspec": {
      "name": "python3",
      "display_name": "Python 3"
    },
    "language_info": {
      "name": "python"
    }
  },
  "cells": [
    {
      "cell_type": "code",
      "execution_count": 1,
      "metadata": {
        "id": "77q6ZuOmBxYv"
      },
      "outputs": [],
      "source": [
        "#Install Dependencies\n",
        "import tensorflow as tf\n",
        "import os\n",
        "import cv2\n",
        "import imghdr\n",
        "import numpy as np\n",
        "from matplotlib import pyplot as plt\n",
        "import pandas as pd"
      ]
    },
    {
      "cell_type": "code",
      "source": [
        "from google.colab import files\n",
        "Train_Dataset = files.upload()"
      ],
      "metadata": {
        "id": "2hG51zwBB4Jw"
      },
      "execution_count": null,
      "outputs": []
    },
    {
      "cell_type": "code",
      "source": [
        "!unzip Train.zip"
      ],
      "metadata": {
        "id": "4miTKxC1CMjg"
      },
      "execution_count": null,
      "outputs": []
    },
    {
      "cell_type": "code",
      "source": [
        "import os\n",
        "from google.colab import files\n",
        "Test_Dataset = files.upload()"
      ],
      "metadata": {
        "id": "ISqMvtTlCPn1"
      },
      "execution_count": null,
      "outputs": []
    },
    {
      "cell_type": "code",
      "source": [
        "!unzip Test.zip"
      ],
      "metadata": {
        "id": "ARZ7wEN6CTp7"
      },
      "execution_count": null,
      "outputs": []
    },
    {
      "cell_type": "code",
      "source": [
        "os.chdir(\"/content\")\n",
        "os.listdir()"
      ],
      "metadata": {
        "colab": {
          "base_uri": "https://localhost:8080/"
        },
        "id": "2ioLe0czCUfV",
        "outputId": "eb16deff-5432-459f-f073-ce80f50ca3ee"
      },
      "execution_count": 6,
      "outputs": [
        {
          "output_type": "execute_result",
          "data": {
            "text/plain": [
              "['.config',\n",
              " 'Train',\n",
              " 'Test.zip',\n",
              " '__MACOSX',\n",
              " 'Train.zip',\n",
              " 'Test',\n",
              " 'sample_data']"
            ]
          },
          "metadata": {},
          "execution_count": 6
        }
      ]
    },
    {
      "cell_type": "code",
      "source": [
        "from tensorflow.keras.preprocessing.image import ImageDataGenerator\n",
        "\n",
        "Traingen = ImageDataGenerator(rescale=1./255)\n",
        "Testgen = ImageDataGenerator(rescale=1./255)\n",
        "\n",
        "train_generator = Traingen.flow_from_directory(\n",
        "    '/content/Train',\n",
        "    target_size=(256, 256),\n",
        "    batch_size=65,\n",
        "    class_mode='categorical',\n",
        "    shuffle=True\n",
        ")\n",
        "\n",
        "test_generator = Testgen.flow_from_directory(\n",
        "    '/content/Test',\n",
        "    target_size=(256, 256),\n",
        "    batch_size=65,\n",
        "    shuffle=True,\n",
        "    class_mode='categorical'\n",
        ")"
      ],
      "metadata": {
        "colab": {
          "base_uri": "https://localhost:8080/"
        },
        "id": "XaxPXK3QCV_x",
        "outputId": "5c59a84a-f2a7-431d-bd68-5740f9a059c2"
      },
      "execution_count": 8,
      "outputs": [
        {
          "output_type": "stream",
          "name": "stdout",
          "text": [
            "Found 5712 images belonging to 4 classes.\n",
            "Found 1311 images belonging to 4 classes.\n"
          ]
        }
      ]
    },
    {
      "cell_type": "code",
      "source": [
        "from tensorflow.keras.models import Sequential\n",
        "from tensorflow.keras.applications.inception_v3 import InceptionV3\n",
        "from tensorflow.keras import layers, models\n",
        "from tensorflow.keras.layers import GlobalAveragePooling2D, Dense, Dropout\n",
        "from tensorflow.keras.regularizers import l2\n",
        "\n",
        "base_model = InceptionV3(weights=\"imagenet\", include_top=False, input_shape=(256,256,3))\n",
        "\n",
        "finetune_afterwards = 290\n",
        "\n",
        "for layer in base_model.layers[:finetune_afterwards]:\n",
        "    layer.trainable = False\n",
        "\n",
        "GAP_2D = GlobalAveragePooling2D()\n",
        "Dense1 = Dense(800, activation='relu', kernel_regularizer=l2(0.001))\n",
        "Dropout1 = Dropout(0.2)\n",
        "Dense2 = Dense(300, activation='relu', kernel_regularizer=l2(0.001))\n",
        "Dropout2 = Dropout(0.2)\n",
        "prediction = Dense(4, activation='softmax')\n",
        "\n",
        "model = Sequential([\n",
        "    base_model,\n",
        "    GAP_2D,\n",
        "    Dense1,\n",
        "    Dropout1,\n",
        "    Dense2,\n",
        "    Dropout2,\n",
        "    prediction\n",
        "])\n"
      ],
      "metadata": {
        "id": "rC_P6jzxCYCM"
      },
      "execution_count": 10,
      "outputs": []
    },
    {
      "cell_type": "code",
      "source": [
        "from tensorflow.keras.metrics import Accuracy\n",
        "from tensorflow.keras.callbacks import EarlyStopping\n",
        "import pickle\n",
        "\n",
        "model.compile(\n",
        "    optimizer='adam',\n",
        "    loss='categorical_crossentropy',\n",
        "    metrics=['accuracy'],\n",
        ")\n",
        "\n",
        "\n",
        "es = EarlyStopping(monitor='test_accuracy', mode='max', patience=2,  restore_best_weights=True)\n",
        "\n",
        "STEP_SIZE_TRAIN = 85\n",
        "STEP_SIZE_TEST = 20\n",
        "\n",
        "\n",
        "run = model.fit(train_generator,\n",
        "                steps_per_epoch = STEP_SIZE_TRAIN,\n",
        "                validation_data = test_generator,\n",
        "                validation_steps= STEP_SIZE_TEST,\n",
        "                epochs=7\n",
        ")\n",
        "\n",
        "pickle.dump(model, open('model.pkl', 'wb'))"
      ],
      "metadata": {
        "colab": {
          "base_uri": "https://localhost:8080/"
        },
        "id": "WvcDJh-ZCdc2",
        "outputId": "356469c0-e2ca-4922-b50a-29c5a32e23b9"
      },
      "execution_count": 14,
      "outputs": [
        {
          "output_type": "stream",
          "name": "stdout",
          "text": [
            "Epoch 1/7\n",
            "85/85 [==============================] - 1172s 14s/step - loss: 0.6400 - accuracy: 0.9172 - val_loss: 0.4595 - val_accuracy: 0.9400\n",
            "Epoch 2/7\n",
            "85/85 [==============================] - 1139s 13s/step - loss: 0.3483 - accuracy: 0.9616 - val_loss: 0.3780 - val_accuracy: 0.9392\n",
            "Epoch 3/7\n",
            "85/85 [==============================] - 1164s 14s/step - loss: 0.2288 - accuracy: 0.9772 - val_loss: 0.2978 - val_accuracy: 0.9523\n",
            "Epoch 4/7\n",
            "85/85 [==============================] - 1209s 14s/step - loss: 0.1871 - accuracy: 0.9773 - val_loss: 0.2903 - val_accuracy: 0.9423\n",
            "Epoch 5/7\n",
            "85/85 [==============================] - 1208s 14s/step - loss: 0.1472 - accuracy: 0.9819 - val_loss: 0.2373 - val_accuracy: 0.9562\n",
            "Epoch 6/7\n",
            "85/85 [==============================] - 1306s 15s/step - loss: 0.1229 - accuracy: 0.9859 - val_loss: 0.1878 - val_accuracy: 0.9592\n",
            "Epoch 7/7\n",
            "85/85 [==============================] - 1184s 14s/step - loss: 0.0914 - accuracy: 0.9926 - val_loss: 0.1658 - val_accuracy: 0.9692\n"
          ]
        }
      ]
    },
    {
      "cell_type": "code",
      "source": [
        "scores = model.evaluate(test_generator, steps=STEP_SIZE_TEST)\n",
        "print(scores)"
      ],
      "metadata": {
        "colab": {
          "base_uri": "https://localhost:8080/"
        },
        "id": "FOV-DabAnu5T",
        "outputId": "98c7df0c-b95c-40f5-aef7-55fcc6bf702e"
      },
      "execution_count": 15,
      "outputs": [
        {
          "output_type": "stream",
          "name": "stdout",
          "text": [
            "20/20 [==============================] - 210s 10s/step - loss: 0.1647 - accuracy: 0.9700\n",
            "[0.1646844893693924, 0.9700000286102295]\n"
          ]
        }
      ]
    }
  ]
}